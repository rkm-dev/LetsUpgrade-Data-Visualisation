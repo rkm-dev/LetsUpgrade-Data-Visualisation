{
 "cells": [
  {
   "cell_type": "markdown",
   "id": "amino-rescue",
   "metadata": {},
   "source": [
    "# Day 2 - Assignment"
   ]
  },
  {
   "cell_type": "code",
   "execution_count": 19,
   "id": "trained-wright",
   "metadata": {},
   "outputs": [],
   "source": [
    "import matplotlib.pyplot as plt\n",
    "import numpy as np\n",
    "import pandas as pd\n",
    "%matplotlib inline\n",
    "import seaborn as sns\n",
    "from numpy.random import randn"
   ]
  },
  {
   "cell_type": "markdown",
   "id": "returning-entrance",
   "metadata": {},
   "source": [
    "### Question 1 -> Create a dataframe with 10 rows on random numbers and 4 columns \n",
    "```\n",
    "(columns labelled as a,b,c,d) and plot a bar chart.\n",
    "```"
   ]
  },
  {
   "cell_type": "code",
   "execution_count": 20,
   "id": "creative-prompt",
   "metadata": {},
   "outputs": [
    {
     "data": {
      "text/html": [
       "<div>\n",
       "<style scoped>\n",
       "    .dataframe tbody tr th:only-of-type {\n",
       "        vertical-align: middle;\n",
       "    }\n",
       "\n",
       "    .dataframe tbody tr th {\n",
       "        vertical-align: top;\n",
       "    }\n",
       "\n",
       "    .dataframe thead th {\n",
       "        text-align: right;\n",
       "    }\n",
       "</style>\n",
       "<table border=\"1\" class=\"dataframe\">\n",
       "  <thead>\n",
       "    <tr style=\"text-align: right;\">\n",
       "      <th></th>\n",
       "      <th>a</th>\n",
       "      <th>b</th>\n",
       "      <th>c</th>\n",
       "      <th>d</th>\n",
       "    </tr>\n",
       "  </thead>\n",
       "  <tbody>\n",
       "    <tr>\n",
       "      <th>0</th>\n",
       "      <td>0.337220</td>\n",
       "      <td>0.692067</td>\n",
       "      <td>0.077132</td>\n",
       "      <td>-0.792112</td>\n",
       "    </tr>\n",
       "    <tr>\n",
       "      <th>1</th>\n",
       "      <td>0.798192</td>\n",
       "      <td>-0.794250</td>\n",
       "      <td>0.887143</td>\n",
       "      <td>0.045935</td>\n",
       "    </tr>\n",
       "    <tr>\n",
       "      <th>2</th>\n",
       "      <td>1.166837</td>\n",
       "      <td>0.588954</td>\n",
       "      <td>0.644820</td>\n",
       "      <td>-0.718553</td>\n",
       "    </tr>\n",
       "    <tr>\n",
       "      <th>3</th>\n",
       "      <td>-0.272741</td>\n",
       "      <td>-0.753717</td>\n",
       "      <td>-0.255094</td>\n",
       "      <td>-0.919612</td>\n",
       "    </tr>\n",
       "    <tr>\n",
       "      <th>4</th>\n",
       "      <td>-1.121589</td>\n",
       "      <td>-0.093273</td>\n",
       "      <td>-0.591154</td>\n",
       "      <td>-1.086647</td>\n",
       "    </tr>\n",
       "    <tr>\n",
       "      <th>5</th>\n",
       "      <td>0.704912</td>\n",
       "      <td>-1.537507</td>\n",
       "      <td>0.310466</td>\n",
       "      <td>-0.068357</td>\n",
       "    </tr>\n",
       "    <tr>\n",
       "      <th>6</th>\n",
       "      <td>-0.484952</td>\n",
       "      <td>0.143895</td>\n",
       "      <td>-0.923106</td>\n",
       "      <td>0.719458</td>\n",
       "    </tr>\n",
       "    <tr>\n",
       "      <th>7</th>\n",
       "      <td>0.719030</td>\n",
       "      <td>-1.548370</td>\n",
       "      <td>0.914627</td>\n",
       "      <td>-1.022304</td>\n",
       "    </tr>\n",
       "    <tr>\n",
       "      <th>8</th>\n",
       "      <td>-0.659518</td>\n",
       "      <td>-1.498369</td>\n",
       "      <td>-0.738929</td>\n",
       "      <td>0.076443</td>\n",
       "    </tr>\n",
       "    <tr>\n",
       "      <th>9</th>\n",
       "      <td>-0.896222</td>\n",
       "      <td>-0.051745</td>\n",
       "      <td>-0.759893</td>\n",
       "      <td>-0.812700</td>\n",
       "    </tr>\n",
       "  </tbody>\n",
       "</table>\n",
       "</div>"
      ],
      "text/plain": [
       "          a         b         c         d\n",
       "0  0.337220  0.692067  0.077132 -0.792112\n",
       "1  0.798192 -0.794250  0.887143  0.045935\n",
       "2  1.166837  0.588954  0.644820 -0.718553\n",
       "3 -0.272741 -0.753717 -0.255094 -0.919612\n",
       "4 -1.121589 -0.093273 -0.591154 -1.086647\n",
       "5  0.704912 -1.537507  0.310466 -0.068357\n",
       "6 -0.484952  0.143895 -0.923106  0.719458\n",
       "7  0.719030 -1.548370  0.914627 -1.022304\n",
       "8 -0.659518 -1.498369 -0.738929  0.076443\n",
       "9 -0.896222 -0.051745 -0.759893 -0.812700"
      ]
     },
     "execution_count": 20,
     "metadata": {},
     "output_type": "execute_result"
    }
   ],
   "source": [
    "df = pd.DataFrame(randn(10, 4), columns=['a', 'b', 'c', 'd'])\n",
    "df"
   ]
  },
  {
   "cell_type": "code",
   "execution_count": 25,
   "id": "prerequisite-technical",
   "metadata": {},
   "outputs": [
    {
     "data": {
      "image/png": "[encoded data removed]",
      "text/plain": [
       "<Figure size 1080x504 with 1 Axes>"
      ]
     },
     "metadata": {
      "needs_background": "light"
     },
     "output_type": "display_data"
    }
   ],
   "source": [
    "df.plot.bar(figsize=(15, 7), stacked=True, grid=True);"
   ]
  },
  {
   "cell_type": "code",
   "execution_count": 24,
   "id": "seeing-teacher",
   "metadata": {},
   "outputs": [
    {
     "data": {
      "image/png": "[encoded data removed]",
      "text/plain": [
       "<Figure size 1080x504 with 1 Axes>"
      ]
     },
     "metadata": {
      "needs_background": "light"
     },
     "output_type": "display_data"
    }
   ],
   "source": [
    "df.plot.bar(figsize=(15, 7));"
   ]
  },
  {
   "cell_type": "code",
   "execution_count": null,
   "id": "permanent-tongue",
   "metadata": {},
   "outputs": [],
   "source": []
  }
 ],
 "metadata": {
  "kernelspec": {
   "display_name": "Python 3",
   "language": "python",
   "name": "python3"
  },
  "language_info": {
   "codemirror_mode": {
    "name": "ipython",
    "version": 3
   },
   "file_extension": ".py",
   "mimetype": "text/x-python",
   "name": "python",
   "nbconvert_exporter": "python",
   "pygments_lexer": "ipython3",
   "version": "3.8.8"
  }
 },
 "nbformat": 4,
 "nbformat_minor": 5
}
